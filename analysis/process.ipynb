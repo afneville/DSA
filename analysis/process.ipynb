{
 "cells": [
  {
   "cell_type": "code",
   "execution_count": 1,
   "id": "4354e423",
   "metadata": {},
   "outputs": [],
   "source": [
    "#!/usr/bin/env python3\n",
    "\n",
    "import csv\n",
    "import time\n",
    "import pandas as pd\n",
    "import matplotlib.pyplot as plt"
   ]
  },
  {
   "cell_type": "code",
   "execution_count": 2,
   "id": "1fc8ce56",
   "metadata": {},
   "outputs": [],
   "source": [
    "def import_data(path):\n",
    "    \"\"\"Load data from csv file into 2d array and return to call site\"\"\"\n",
    "    data = []\n",
    "    with open(path, \"r\") as file:\n",
    "        file_handle = csv.reader(file)\n",
    "        for row in file_handle:\n",
    "            numeric_data = [float(i) for i in row]\n",
    "            data.append(numeric_data)\n",
    "    return data"
   ]
  },
  {
   "cell_type": "code",
   "execution_count": 3,
   "id": "a2d5f3d0",
   "metadata": {},
   "outputs": [],
   "source": [
    "def measure_python_list_performance():\n",
    "    with open('./raw/python_list_performance.csv', 'w') as f:\n",
    "        subject = []\n",
    "        for i in range(100):\n",
    "            t1 = time.process_time()\n",
    "            subject.append(i)\n",
    "            t2 = time.process_time()\n",
    "            f.write(f\"{i},{(t2 - t1):.16f}\\n\")"
   ]
  },
  {
   "cell_type": "code",
   "execution_count": 4,
   "id": "9332b026",
   "metadata": {},
   "outputs": [
    {
     "data": {
      "text/plain": [
       "[[0.0, 3.567e-06],\n",
       " [1.0, 5.009999999e-07],\n",
       " [2.0, 4.009999999e-07],\n",
       " [3.0, 3.81e-07],\n",
       " [4.0, 4.21e-07],\n",
       " [5.0, 3.81e-07],\n",
       " [6.0, 3.81e-07],\n",
       " [7.0, 3.81e-07],\n",
       " [8.0, 5.009999999e-07],\n",
       " [9.0, 3.81e-07],\n",
       " [10.0, 3.909999999e-07],\n",
       " [11.0, 3.81e-07],\n",
       " [12.0, 3.710000001e-07],\n",
       " [13.0, 3.7e-07],\n",
       " [14.0, 3.81e-07],\n",
       " [15.0, 3.710000001e-07],\n",
       " [16.0, 5.310000002e-07],\n",
       " [17.0, 3.81e-07],\n",
       " [18.0, 3.799999999e-07],\n",
       " [19.0, 3.800000001e-07],\n",
       " [20.0, 3.710000001e-07],\n",
       " [21.0, 3.710000001e-07],\n",
       " [22.0, 3.81e-07],\n",
       " [23.0, 3.799999999e-07],\n",
       " [24.0, 4.409999999e-07],\n",
       " [25.0, 3.81e-07],\n",
       " [26.0, 3.710000001e-07],\n",
       " [27.0, 3.81e-07],\n",
       " [28.0, 3.81e-07],\n",
       " [29.0, 3.710000001e-07],\n",
       " [30.0, 3.710000001e-07],\n",
       " [31.0, 3.710000001e-07],\n",
       " [32.0, 4.4e-07],\n",
       " [33.0, 3.909999999e-07],\n",
       " [34.0, 3.81e-07],\n",
       " [35.0, 3.81e-07],\n",
       " [36.0, 3.710000001e-07],\n",
       " [37.0, 3.799999999e-07],\n",
       " [38.0, 3.6e-07],\n",
       " [39.0, 3.710000001e-07],\n",
       " [40.0, 5.31e-07],\n",
       " [41.0, 3.910000002e-07],\n",
       " [42.0, 3.81e-07],\n",
       " [43.0, 3.81e-07],\n",
       " [44.0, 3.709999998e-07],\n",
       " [45.0, 3.81e-07],\n",
       " [46.0, 3.710000001e-07],\n",
       " [47.0, 3.800000001e-07],\n",
       " [48.0, 3.800000001e-07],\n",
       " [49.0, 3.710000001e-07],\n",
       " [50.0, 3.81e-07],\n",
       " [51.0, 3.710000001e-07],\n",
       " [52.0, 5.209999998e-07],\n",
       " [53.0, 3.800000001e-07],\n",
       " [54.0, 3.81e-07],\n",
       " [55.0, 3.81e-07],\n",
       " [56.0, 3.81e-07],\n",
       " [57.0, 3.81e-07],\n",
       " [58.0, 3.81e-07],\n",
       " [59.0, 3.909999999e-07],\n",
       " [60.0, 3.910000002e-07],\n",
       " [61.0, 3.799999999e-07],\n",
       " [62.0, 3.800000001e-07],\n",
       " [63.0, 3.7e-07],\n",
       " [64.0, 4.709999999e-07],\n",
       " [65.0, 3.81e-07],\n",
       " [66.0, 3.710000001e-07],\n",
       " [67.0, 3.799999999e-07],\n",
       " [68.0, 3.899999999e-07],\n",
       " [69.0, 3.799999999e-07],\n",
       " [70.0, 3.81e-07],\n",
       " [71.0, 3.710000001e-07],\n",
       " [72.0, 3.81e-07],\n",
       " [73.0, 3.81e-07],\n",
       " [74.0, 3.710000001e-07],\n",
       " [75.0, 3.710000001e-07],\n",
       " [76.0, 8.62e-07],\n",
       " [77.0, 3.81e-07],\n",
       " [78.0, 3.81e-07],\n",
       " [79.0, 3.710000001e-07],\n",
       " [80.0, 3.81e-07],\n",
       " [81.0, 3.81e-07],\n",
       " [82.0, 3.81e-07],\n",
       " [83.0, 3.710000001e-07],\n",
       " [84.0, 3.799999999e-07],\n",
       " [85.0, 3.7e-07],\n",
       " [86.0, 3.800000001e-07],\n",
       " [87.0, 3.7e-07],\n",
       " [88.0, 3.7e-07],\n",
       " [89.0, 3.909999999e-07],\n",
       " [90.0, 3.81e-07],\n",
       " [91.0, 3.710000001e-07],\n",
       " [92.0, 4.410000001e-07],\n",
       " [93.0, 3.799999999e-07],\n",
       " [94.0, 3.899999999e-07],\n",
       " [95.0, 3.7e-07],\n",
       " [96.0, 3.7e-07],\n",
       " [97.0, 3.800000001e-07],\n",
       " [98.0, 3.7e-07],\n",
       " [99.0, 3.81e-07]]"
      ]
     },
     "execution_count": 4,
     "metadata": {},
     "output_type": "execute_result"
    }
   ],
   "source": [
    "measure_python_list_performance()\n",
    "data = import_data(\"./raw/python_list_performance.csv\")\n",
    "data"
   ]
  },
  {
   "cell_type": "code",
   "execution_count": 5,
   "id": "3fdf13c7",
   "metadata": {},
   "outputs": [],
   "source": [
    "n = [int(i[0]) for i in data]\n",
    "t = [i[1] for i in data]"
   ]
  },
  {
   "cell_type": "code",
   "execution_count": 6,
   "id": "230483b4",
   "metadata": {},
   "outputs": [
    {
     "data": {
      "text/plain": [
       "[<matplotlib.lines.Line2D at 0x7f30491144c0>]"
      ]
     },
     "execution_count": 6,
     "metadata": {},
     "output_type": "execute_result"
    },
    {
     "data": {
      "image/png": "[encoded data removed]",
      "text/plain": [
       "<Figure size 576x576 with 1 Axes>"
      ]
     },
     "metadata": {
      "needs_background": "light"
     },
     "output_type": "display_data"
    }
   ],
   "source": [
    "\n",
    "\n",
    "f = plt.figure()\n",
    "f.set_figwidth(8)\n",
    "f.set_figheight(8)\n",
    "ax = f.add_subplot(1,1,1)\n",
    "# ax.set_xlim(0,100)\n",
    "# ax.set_ylim(0,100)\n",
    "# ax.spines['top'].set_color(\"#aaaaaa\")\n",
    "# ax.spines['right'].set_color(\"#aaaaaa\")\n",
    "# ax.spines['right'].set_visible(False)\n",
    "# ax.axis(\"square\")\n",
    "ax.grid()\n",
    "ax.plot(n, t, marker=\"o\", linestyle=\"None\", markersize=2)"
   ]
  }
 ],
 "metadata": {
  "kernelspec": {
   "display_name": "Python 3 (ipykernel)",
   "language": "python",
   "name": "python3"
  },
  "language_info": {
   "codemirror_mode": {
    "name": "ipython",
    "version": 3
   },
   "file_extension": ".py",
   "mimetype": "text/x-python",
   "name": "python",
   "nbconvert_exporter": "python",
   "pygments_lexer": "ipython3",
   "version": "3.9.9"
  }
 },
 "nbformat": 4,
 "nbformat_minor": 5
}
