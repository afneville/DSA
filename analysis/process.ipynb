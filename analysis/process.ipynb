{
 "cells": [
  {
   "cell_type": "code",
   "execution_count": 1,
   "id": "4354e423",
   "metadata": {},
   "outputs": [],
   "source": [
    "#!/usr/bin/env python3\n",
    "\n",
    "import csv\n",
    "import time\n",
    "import pandas as pd\n",
    "import matplotlib.pyplot as plt"
   ]
  },
  {
   "cell_type": "code",
   "execution_count": 2,
   "id": "1fc8ce56",
   "metadata": {},
   "outputs": [],
   "source": [
    "def import_data(path):\n",
    "    \"\"\"Load data from csv file into 2d array and return to call site\"\"\"\n",
    "    data = []\n",
    "    with open(path, \"r\") as file:\n",
    "        file_handle = csv.reader(file)\n",
    "        for row in file_handle:\n",
    "            numeric_data = [float(i) for i in row]\n",
    "            data.append(numeric_data)\n",
    "    return data"
   ]
  },
  {
   "cell_type": "code",
   "execution_count": 3,
   "id": "a2d5f3d0",
   "metadata": {},
   "outputs": [],
   "source": [
    "def measure_python_list_performance():\n",
    "    with open('./raw/python_list_performance.csv', 'w') as f:\n",
    "        subject = []\n",
    "        for i in range(1, 100):\n",
    "            t1 = time.process_time()\n",
    "            subject.append(i)\n",
    "            t2 = time.process_time()\n",
    "            j = i-1\n",
    "            t3 = time.process_time()\n",
    "            val = subject[j]\n",
    "            t4 = time.process_time()\n",
    "            f.write(f\"{i},{(t2 - t1):.16f},{(t4 - t3):.16f}\\n\")"
   ]
  },
  {
   "cell_type": "code",
   "execution_count": 4,
   "id": "9332b026",
   "metadata": {
    "scrolled": false
   },
   "outputs": [
    {
     "data": {
      "text/plain": [
       "[[1.0, 5.2700000002e-06, 1.092e-06],\n",
       " [2.0, 1.1420000001e-06, 7.820000001e-07],\n",
       " [3.0, 9.02e-07, 7.909999999e-07],\n",
       " [4.0, 8.820000001e-07, 7.62e-07],\n",
       " [5.0, 1.0420000001e-06, 7.910000002e-07],\n",
       " [6.0, 9.109999999e-07, 7.81e-07],\n",
       " [7.0, 9.019999998e-07, 7.909999999e-07],\n",
       " [8.0, 8.919999999e-07, 8.119999999e-07],\n",
       " [9.0, 1.192e-06, 7.519999998e-07],\n",
       " [10.0, 8.819999999e-07, 7.62e-07],\n",
       " [11.0, 8.72e-07, 7.419999999e-07],\n",
       " [12.0, 8.919999999e-07, 7.419999999e-07],\n",
       " [13.0, 8.809999998e-07, 8.109999998e-07],\n",
       " [14.0, 8.820000001e-07, 7.62e-07],\n",
       " [15.0, 8.91e-07, 7.609999999e-07],\n",
       " [16.0, 8.919999999e-07, 7.52e-07],\n",
       " [17.0, 1.0320000001e-06, 7.719999999e-07],\n",
       " [18.0, 8.919999999e-07, 7.319999999e-07],\n",
       " [19.0, 8.810000001e-07, 7.409999998e-07],\n",
       " [20.0, 8.819999999e-07, 7.52e-07],\n",
       " [21.0, 8.91e-07, 7.51e-07],\n",
       " [22.0, 1.132e-06, 7.81e-07],\n",
       " [23.0, 9.109999999e-07, 7.41e-07],\n",
       " [24.0, 8.820000001e-07, 7.62e-07],\n",
       " [25.0, 1.1419999999e-06, 7.52e-07],\n",
       " [26.0, 8.819999999e-07, 7.62e-07],\n",
       " [27.0, 8.709999999e-07, 7.51e-07],\n",
       " [28.0, 8.819999999e-07, 7.420000001e-07],\n",
       " [29.0, 9.009999999e-07, 7.610000001e-07],\n",
       " [30.0, 8.72e-07, 7.720000001e-07],\n",
       " [31.0, 8.91e-07, 7.909999999e-07],\n",
       " [32.0, 8.920000001e-07, 7.62e-07],\n",
       " [33.0, 1.192e-06, 7.909999999e-07],\n",
       " [34.0, 9.21e-07, 7.609999999e-07],\n",
       " [35.0, 9.010000002e-07, 7.51e-07],\n",
       " [36.0, 8.819999999e-07, 7.820000001e-07],\n",
       " [37.0, 8.709999999e-07, 7.310000001e-07],\n",
       " [38.0, 8.819999999e-07, 7.710000001e-07],\n",
       " [39.0, 8.819999999e-07, 7.62e-07],\n",
       " [40.0, 8.810000001e-07, 7.51e-07],\n",
       " [41.0, 1.132e-06, 7.81e-07],\n",
       " [42.0, 8.810000001e-07, 7.609999999e-07],\n",
       " [43.0, 8.810000001e-07, 7.710000001e-07],\n",
       " [44.0, 8.820000001e-07, 7.51e-07],\n",
       " [45.0, 8.72e-07, 7.719999999e-07],\n",
       " [46.0, 8.920000001e-07, 7.11e-07],\n",
       " [47.0, 8.819999999e-07, 7.719999999e-07],\n",
       " [48.0, 8.819999999e-07, 7.52e-07],\n",
       " [49.0, 8.820000001e-07, 7.52e-07],\n",
       " [50.0, 8.810000001e-07, 7.51e-07],\n",
       " [51.0, 8.819999999e-07, 7.62e-07],\n",
       " [52.0, 8.810000001e-07, 7.51e-07],\n",
       " [53.0, 1.312e-06, 7.909999999e-07],\n",
       " [54.0, 8.809999998e-07, 7.81e-07],\n",
       " [55.0, 8.920000001e-07, 7.720000001e-07],\n",
       " [56.0, 8.91e-07, 7.81e-07],\n",
       " [57.0, 8.920000001e-07, 7.62e-07],\n",
       " [58.0, 8.810000001e-07, 7.81e-07],\n",
       " [59.0, 8.819999999e-07, 7.92e-07],\n",
       " [60.0, 8.809999998e-07, 7.609999999e-07],\n",
       " [61.0, 8.820000001e-07, 7.820000001e-07],\n",
       " [62.0, 8.709999999e-07, 7.710000001e-07],\n",
       " [63.0, 9.02e-07, 7.62e-07],\n",
       " [64.0, 8.809999998e-07, 7.51e-07],\n",
       " [65.0, 1.2420000002e-06, 7.709999998e-07],\n",
       " [66.0, 9.02e-07, 7.51e-07],\n",
       " [67.0, 8.819999999e-07, 7.720000001e-07],\n",
       " [68.0, 8.919999999e-07, 7.81e-07],\n",
       " [69.0, 9.02e-07, 7.719999999e-07],\n",
       " [70.0, 8.920000001e-07, 7.51e-07],\n",
       " [71.0, 8.820000001e-07, 7.62e-07],\n",
       " [72.0, 8.810000001e-07, 7.609999999e-07],\n",
       " [73.0, 8.820000001e-07, 7.62e-07],\n",
       " [74.0, 8.810000001e-07, 7.51e-07],\n",
       " [75.0, 8.920000001e-07, 7.709999998e-07],\n",
       " [76.0, 8.72e-07, 7.909999999e-07],\n",
       " [77.0, 2.184e-06, 8.010000001e-07],\n",
       " [78.0, 9.12e-07, 7.92e-07],\n",
       " [79.0, 9.21e-07, 7.710000001e-07],\n",
       " [80.0, 8.920000001e-07, 7.519999998e-07],\n",
       " [81.0, 8.710000001e-07, 7.609999999e-07],\n",
       " [82.0, 8.920000001e-07, 7.909999999e-07],\n",
       " [83.0, 8.709999999e-07, 7.81e-07],\n",
       " [84.0, 8.819999999e-07, 7.720000001e-07],\n",
       " [85.0, 9.010000002e-07, 7.510000002e-07],\n",
       " [86.0, 8.819999999e-07, 7.819999999e-07],\n",
       " [87.0, 8.710000001e-07, 7.609999999e-07],\n",
       " [88.0, 8.920000001e-07, 7.62e-07],\n",
       " [89.0, 8.72e-07, 7.62e-07],\n",
       " [90.0, 8.709999999e-07, 7.81e-07],\n",
       " [91.0, 8.919999999e-07, 7.719999999e-07],\n",
       " [92.0, 8.810000001e-07, 7.710000001e-07],\n",
       " [93.0, 1.162e-06, 7.51e-07],\n",
       " [94.0, 8.810000001e-07, 7.909999999e-07],\n",
       " [95.0, 8.72e-07, 7.719999999e-07],\n",
       " [96.0, 8.91e-07, 7.51e-07],\n",
       " [97.0, 8.919999999e-07, 7.819999999e-07],\n",
       " [98.0, 8.819999999e-07, 7.710000001e-07],\n",
       " [99.0, 8.72e-07, 7.62e-07]]"
      ]
     },
     "execution_count": 4,
     "metadata": {},
     "output_type": "execute_result"
    }
   ],
   "source": [
    "measure_python_list_performance()\n",
    "data = import_data(\"./raw/python_list_performance.csv\")\n",
    "data"
   ]
  },
  {
   "cell_type": "code",
   "execution_count": 5,
   "id": "e003c017",
   "metadata": {},
   "outputs": [],
   "source": [
    "n = [int(i[0]) for i in data]\n",
    "ti = [i[1] for i in data]\n",
    "ta = [i[2] for i in data]"
   ]
  },
  {
   "cell_type": "code",
   "execution_count": 6,
   "id": "182faf0e",
   "metadata": {
    "scrolled": true
   },
   "outputs": [
    {
     "data": {
      "image/png": "[encoded data removed]",
      "text/plain": [
       "<Figure size 576x576 with 1 Axes>"
      ]
     },
     "metadata": {
      "needs_background": "light"
     },
     "output_type": "display_data"
    }
   ],
   "source": [
    "\n",
    "\n",
    "f = plt.figure()\n",
    "f.set_figwidth(8)\n",
    "f.set_figheight(8)\n",
    "ax = f.add_subplot(1,1,1)\n",
    "ax.set_xlim(0,100)\n",
    "# ax.set_ylim(0,100)\n",
    "# ax.spines['top'].set_color(\"#ffffff\")\n",
    "# ax.spines['right'].set_color(\"#ffffff\")\n",
    "# ax.spines['right'].set_visible(False)\n",
    "# ax.axis(\"square\")\n",
    "# ax.grid()\n",
    "ax.bar(n, ti, width=1.0, label=\"append\")\n",
    "ax.plot(n, ta, linewidth=5, color=\"red\", label=\"access\")\n",
    "ax.set_xlabel(\"Elements\")\n",
    "ax.set_ylabel(\"CPU time (s)\")\n",
    "ax.set_title(\"Performance of a Python List\", fontsize=16, verticalalignment='bottom')\n",
    "ax.legend(loc=\"upper right\")\n",
    "plt.savefig(\"./plots/python_list_performance.png\")"
   ]
  },
  {
   "cell_type": "code",
   "execution_count": null,
   "id": "cc6eb50e",
   "metadata": {},
   "outputs": [],
   "source": []
  }
 ],
 "metadata": {
  "kernelspec": {
   "display_name": "Python 3 (ipykernel)",
   "language": "python",
   "name": "python3"
  },
  "language_info": {
   "codemirror_mode": {
    "name": "ipython",
    "version": 3
   },
   "file_extension": ".py",
   "mimetype": "text/x-python",
   "name": "python",
   "nbconvert_exporter": "python",
   "pygments_lexer": "ipython3",
   "version": "3.9.9"
  }
 },
 "nbformat": 4,
 "nbformat_minor": 5
}
