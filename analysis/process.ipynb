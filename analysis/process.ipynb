{
 "cells": [
  {
   "cell_type": "code",
   "execution_count": 1,
   "id": "4354e423",
   "metadata": {},
   "outputs": [],
   "source": [
    "#!/usr/bin/env python3\n",
    "\n",
    "import csv\n",
    "import time\n",
    "import pandas as pd\n",
    "import matplotlib.pyplot as plt"
   ]
  },
  {
   "cell_type": "code",
   "execution_count": 2,
   "id": "1fc8ce56",
   "metadata": {},
   "outputs": [],
   "source": [
    "def import_data(path):\n",
    "    \"\"\"Load data from csv file into 2d array and return to call site\"\"\"\n",
    "    data = []\n",
    "    with open(path, \"r\") as file:\n",
    "        file_handle = csv.reader(file)\n",
    "        for row in file_handle:\n",
    "            numeric_data = [float(i) for i in row]\n",
    "            data.append(numeric_data)\n",
    "    return data"
   ]
  },
  {
   "cell_type": "code",
   "execution_count": 8,
   "id": "a2d5f3d0",
   "metadata": {},
   "outputs": [],
   "source": [
    "def measure_python_list_performance():\n",
    "    with open('./raw/python_list_performance.csv', 'w') as f:\n",
    "        subject = []\n",
    "        for i in range(1, 100):\n",
    "            t1 = time.process_time()\n",
    "            subject.append(i)\n",
    "            t2 = time.process_time()\n",
    "            f.write(f\"{i},{(t2 - t1):.16f}\\n\")"
   ]
  },
  {
   "cell_type": "code",
   "execution_count": 9,
   "id": "9332b026",
   "metadata": {},
   "outputs": [
    {
     "data": {
      "text/plain": [
       "[[1.0, 1.10699999998e-05],\n",
       " [2.0, 1.5929999999e-06],\n",
       " [3.0, 1.1820000001e-06],\n",
       " [4.0, 1.192e-06],\n",
       " [5.0, 1.3430000001e-06],\n",
       " [6.0, 1.2429999998e-06],\n",
       " [7.0, 1.1620000002e-06],\n",
       " [8.0, 1.1620000002e-06],\n",
       " [9.0, 1.9230000001e-06],\n",
       " [10.0, 1.1530000004e-06],\n",
       " [11.0, 1.1529999999e-06],\n",
       " [12.0, 1.1619999998e-06],\n",
       " [13.0, 1.1519999998e-06],\n",
       " [14.0, 1.1619999998e-06],\n",
       " [15.0, 1.1619999998e-06],\n",
       " [16.0, 1.1620000002e-06],\n",
       " [17.0, 1.503e-06],\n",
       " [18.0, 1.1719999997e-06],\n",
       " [19.0, 1.1630000003e-06],\n",
       " [20.0, 1.1619999998e-06],\n",
       " [21.0, 1.1820000001e-06],\n",
       " [22.0, 1.1419999999e-06],\n",
       " [23.0, 1.1620000002e-06],\n",
       " [24.0, 1.1629999999e-06],\n",
       " [25.0, 1.7040000002e-06],\n",
       " [26.0, 1.1629999999e-06],\n",
       " [27.0, 1.1630000003e-06],\n",
       " [28.0, 1.1520000003e-06],\n",
       " [29.0, 1.1720000002e-06],\n",
       " [30.0, 1.1520000003e-06],\n",
       " [31.0, 1.132e-06],\n",
       " [32.0, 1.1519999998e-06],\n",
       " [33.0, 1.513e-06],\n",
       " [34.0, 1.1720000002e-06],\n",
       " [35.0, 1.1519999998e-06],\n",
       " [36.0, 1.1520000003e-06],\n",
       " [37.0, 1.132e-06],\n",
       " [38.0, 1.1519999998e-06],\n",
       " [39.0, 1.1720000002e-06],\n",
       " [40.0, 1.1529999999e-06],\n",
       " [41.0, 1.7830000001e-06],\n",
       " [42.0, 1.1820000001e-06],\n",
       " [43.0, 1.1519999998e-06],\n",
       " [44.0, 1.1830000002e-06],\n",
       " [45.0, 1.1720000002e-06],\n",
       " [46.0, 1.1419999999e-06],\n",
       " [47.0, 1.202e-06],\n",
       " [48.0, 1.1929999997e-06],\n",
       " [49.0, 1.1229999997e-06],\n",
       " [50.0, 1.1629999999e-06],\n",
       " [51.0, 1.143e-06],\n",
       " [52.0, 1.1520000003e-06],\n",
       " [53.0, 1.6229999997e-06],\n",
       " [54.0, 1.1620000002e-06],\n",
       " [55.0, 1.1519999998e-06],\n",
       " [56.0, 1.1420000003e-06],\n",
       " [57.0, 1.1620000002e-06],\n",
       " [58.0, 1.1519999998e-06],\n",
       " [59.0, 1.1629999999e-06],\n",
       " [60.0, 1.132e-06],\n",
       " [61.0, 1.1520000003e-06],\n",
       " [62.0, 1.1720000002e-06],\n",
       " [63.0, 1.1720000002e-06],\n",
       " [64.0, 1.1419999999e-06],\n",
       " [65.0, 1.8430000002e-06],\n",
       " [66.0, 1.1820000001e-06],\n",
       " [67.0, 1.1520000003e-06],\n",
       " [68.0, 1.132e-06],\n",
       " [69.0, 1.4130000001e-06],\n",
       " [70.0, 1.1519999998e-06],\n",
       " [71.0, 1.1520000003e-06],\n",
       " [72.0, 1.1519999998e-06],\n",
       " [73.0, 1.122e-06],\n",
       " [74.0, 1.1729999998e-06],\n",
       " [75.0, 1.1620000002e-06],\n",
       " [76.0, 1.1419999999e-06],\n",
       " [77.0, 2.995e-06],\n",
       " [78.0, 1.1719999997e-06],\n",
       " [79.0, 1.1519999998e-06],\n",
       " [80.0, 1.1420000003e-06],\n",
       " [81.0, 1.132e-06],\n",
       " [82.0, 1.1629999999e-06],\n",
       " [83.0, 1.1520000003e-06],\n",
       " [84.0, 1.1520000003e-06],\n",
       " [85.0, 1.1419999999e-06],\n",
       " [86.0, 1.1519999998e-06],\n",
       " [87.0, 1.1620000002e-06],\n",
       " [88.0, 1.1419999999e-06],\n",
       " [89.0, 1.1519999998e-06],\n",
       " [90.0, 1.1420000003e-06],\n",
       " [91.0, 1.122e-06],\n",
       " [92.0, 1.1620000002e-06],\n",
       " [93.0, 1.5530000002e-06],\n",
       " [94.0, 1.1619999998e-06],\n",
       " [95.0, 1.1720000002e-06],\n",
       " [96.0, 1.1520000003e-06],\n",
       " [97.0, 1.1519999998e-06],\n",
       " [98.0, 1.1419999999e-06],\n",
       " [99.0, 1.1419999999e-06]]"
      ]
     },
     "execution_count": 9,
     "metadata": {},
     "output_type": "execute_result"
    }
   ],
   "source": [
    "measure_python_list_performance()\n",
    "data = import_data(\"./raw/python_list_performance.csv\")\n",
    "data"
   ]
  },
  {
   "cell_type": "code",
   "execution_count": 10,
   "id": "3676f034",
   "metadata": {},
   "outputs": [],
   "source": [
    "n = [int(i[0]) for i in data]\n",
    "t = [i[1] for i in data]"
   ]
  },
  {
   "cell_type": "code",
   "execution_count": 19,
   "id": "218e985b",
   "metadata": {},
   "outputs": [
    {
     "data": {
      "image/png": "[encoded data removed]",
      "text/plain": [
       "<Figure size 576x576 with 1 Axes>"
      ]
     },
     "metadata": {
      "needs_background": "light"
     },
     "output_type": "display_data"
    }
   ],
   "source": [
    "\n",
    "\n",
    "f = plt.figure()\n",
    "f.set_figwidth(8)\n",
    "f.set_figheight(8)\n",
    "ax = f.add_subplot(1,1,1)\n",
    "ax.set_xlim(0,100)\n",
    "# ax.set_ylim(0,100)\n",
    "# ax.spines['top'].set_color(\"#ffffff\")\n",
    "# ax.spines['right'].set_color(\"#ffffff\")\n",
    "# ax.spines['right'].set_visible(False)\n",
    "# ax.axis(\"square\")\n",
    "# ax.grid()\n",
    "ax.bar(n, t, width=0.5)\n",
    "ax.set_xlabel(\"Elements\")\n",
    "ax.set_ylabel(\"CPU time (s)\")\n",
    "ax.set_title(\"Performance of a Pyton List\", fontsize=16, verticalalignment='bottom')\n",
    "plt.savefig(\"./plots/python_list_performance\")"
   ]
  },
  {
   "cell_type": "code",
   "execution_count": null,
   "id": "149aff9d",
   "metadata": {},
   "outputs": [],
   "source": []
  }
 ],
 "metadata": {
  "kernelspec": {
   "display_name": "Python 3 (ipykernel)",
   "language": "python",
   "name": "python3"
  },
  "language_info": {
   "codemirror_mode": {
    "name": "ipython",
    "version": 3
   },
   "file_extension": ".py",
   "mimetype": "text/x-python",
   "name": "python",
   "nbconvert_exporter": "python",
   "pygments_lexer": "ipython3",
   "version": "3.9.9"
  }
 },
 "nbformat": 4,
 "nbformat_minor": 5
}
