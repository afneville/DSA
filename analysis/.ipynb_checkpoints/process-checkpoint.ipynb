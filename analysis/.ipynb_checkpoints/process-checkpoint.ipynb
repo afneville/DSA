{
 "cells": [
  {
   "cell_type": "code",
   "execution_count": 1,
   "id": "4354e423",
   "metadata": {},
   "outputs": [],
   "source": [
    "#!/usr/bin/env python3\n",
    "\n",
    "import csv\n",
    "import time"
   ]
  },
  {
   "cell_type": "code",
   "execution_count": 2,
   "id": "1fc8ce56",
   "metadata": {},
   "outputs": [],
   "source": [
    "def import_data(path):\n",
    "    \"\"\"Load data from csv file into 2d array and return to call site\"\"\"\n",
    "    data = []\n",
    "    with open(path, \"r\") as file:\n",
    "        file_handle = csv.reader(file)\n",
    "        for row in file_handle:\n",
    "            numeric_data = [float(i) for i in row]\n",
    "            data.append(numeric_data)\n",
    "    return data"
   ]
  },
  {
   "cell_type": "code",
   "execution_count": 3,
   "id": "a2d5f3d0",
   "metadata": {},
   "outputs": [],
   "source": [
    "def measure_python_list_performance():\n",
    "    with open('./raw/python_list_performance.csv', 'w') as f:\n",
    "        subject = []\n",
    "        for i in range(100):\n",
    "            t1 = time.process_time()\n",
    "            subject.append(i)\n",
    "            t2 = time.process_time()\n",
    "            f.write(f\"{i},{(t2 - t1):.16f}\\n\")"
   ]
  },
  {
   "cell_type": "code",
   "execution_count": null,
   "id": "9332b026",
   "metadata": {},
   "outputs": [],
   "source": []
  }
 ],
 "metadata": {
  "kernelspec": {
   "display_name": "Python 3 (ipykernel)",
   "language": "python",
   "name": "python3"
  },
  "language_info": {
   "codemirror_mode": {
    "name": "ipython",
    "version": 3
   },
   "file_extension": ".py",
   "mimetype": "text/x-python",
   "name": "python",
   "nbconvert_exporter": "python",
   "pygments_lexer": "ipython3",
   "version": "3.9.9"
  }
 },
 "nbformat": 4,
 "nbformat_minor": 5
}
